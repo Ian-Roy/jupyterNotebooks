{
 "cells": [
  {
   "cell_type": "markdown",
   "metadata": {},
   "source": [
    "sometimes the computer does not handle floating point math the way we would expect. There are a few different reasons that this happens, however the main reason for this is that the floating point format is intended to be fast first and accurate second."
   ]
  },
  {
   "cell_type": "code",
   "execution_count": 5,
   "metadata": {},
   "outputs": [
    {
     "name": "stdout",
     "output_type": "stream",
     "text": [
      "0.1 + 0.1 + 0.1 = 0.30000000000000004\n",
      "0.1 + 0.1 + 0.1 -0.3 = 5.551115123125783e-17\n"
     ]
    }
   ],
   "source": [
    "print(f\"0.1 + 0.1 + 0.1 = {0.1+0.1+0.1}\" )\n",
    "print(f\"0.1 + 0.1 + 0.1 -0.3 = {0.1+0.1+0.1-0.3}\")"
   ]
  },
  {
   "cell_type": "markdown",
   "metadata": {},
   "source": [
    "this is a good example of why you should never use strictly equal (==) when comapring floats "
   ]
  },
  {
   "cell_type": "code",
   "execution_count": 12,
   "metadata": {},
   "outputs": [
    {
     "name": "stdout",
     "output_type": "stream",
     "text": [
      "False\n",
      "True\n"
     ]
    }
   ],
   "source": [
    "print (0.1 + 0.1 + 0.1 == 0.3)\n",
    "#instead do something like this \n",
    "print (abs(0.1 + 0.1 + 0.1 - 0.3) <= 1.1e-10)\n",
    "#keep in mind we will want to chose an apropriate threshold for the data it wont always be 1.1e-10"
   ]
  },
  {
   "cell_type": "code",
   "execution_count": 14,
   "metadata": {},
   "outputs": [],
   "source": [
    "import math \n",
    "r1=(-b + math.sqrt(b**2 - 4*a*c))/ (2*a)\n",
    "r2=(-b - math.sqrt(b**2 - 4*a*c))/ (2*a)\n",
    "\n",
    "n1=(2*c)/(-b - math.sqrt(b**2 - 4*a*c))\n",
    "n2=(2*c)/(-b + math.sqrt(b**2 - 4*a*c))"
   ]
  },
  {
   "cell_type": "code",
   "execution_count": null,
   "metadata": {},
   "outputs": [],
   "source": []
  },
  {
   "cell_type": "code",
   "execution_count": null,
   "metadata": {},
   "outputs": [],
   "source": []
  }
 ],
 "metadata": {
  "kernelspec": {
   "display_name": "Python 3",
   "language": "python",
   "name": "python3"
  },
  "language_info": {
   "codemirror_mode": {
    "name": "ipython",
    "version": 3
   },
   "file_extension": ".py",
   "mimetype": "text/x-python",
   "name": "python",
   "nbconvert_exporter": "python",
   "pygments_lexer": "ipython3",
   "version": "3.6.6"
  }
 },
 "nbformat": 4,
 "nbformat_minor": 2
}
