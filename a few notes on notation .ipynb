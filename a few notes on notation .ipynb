{
 "cells": [
  {
   "cell_type": "markdown",
   "metadata": {},
   "source": [
    "notation can vary a lot across the world of python."
   ]
  },
  {
   "cell_type": "markdown",
   "metadata": {},
   "source": [
    "lets talk about ways to build a string.\n",
    "standard string concatenation  "
   ]
  },
  {
   "cell_type": "code",
   "execution_count": 1,
   "metadata": {},
   "outputs": [
    {
     "name": "stdout",
     "output_type": "stream",
     "text": [
      " the value of x is: 7\n",
      " the value of x is: 7\n",
      " the value of x is: 7\n"
     ]
    }
   ],
   "source": [
    "x=7\n",
    "print(' the value of x is: ' + str(x)) # standard string concatenation \n",
    "print(f' the value of x is: {x}') #f string notation added in python 3.6\n",
    "print(' the value of x is:',x)  # extra parameter passed to print \n"
   ]
  }
 ],
 "metadata": {
  "kernelspec": {
   "display_name": "Python 3",
   "language": "python",
   "name": "python3"
  },
  "language_info": {
   "codemirror_mode": {
    "name": "ipython",
    "version": 3
   },
   "file_extension": ".py",
   "mimetype": "text/x-python",
   "name": "python",
   "nbconvert_exporter": "python",
   "pygments_lexer": "ipython3",
   "version": "3.7.3"
  }
 },
 "nbformat": 4,
 "nbformat_minor": 2
}
