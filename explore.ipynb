{
 "cells": [
  {
   "cell_type": "code",
   "execution_count": 1,
   "metadata": {},
   "outputs": [],
   "source": [
    "string = \"hello world\"\n",
    "pi = 3.145\n",
    "x =7 \n",
    "x_str = \"6\"\n",
    "dog = 'scout'"
   ]
  },
  {
   "cell_type": "code",
   "execution_count": 2,
   "metadata": {},
   "outputs": [
    {
     "name": "stdout",
     "output_type": "stream",
     "text": [
      "hello world 7 3.145\n"
     ]
    }
   ],
   "source": [
    "print(string,x,pi)"
   ]
  },
  {
   "cell_type": "code",
   "execution_count": 3,
   "metadata": {},
   "outputs": [
    {
     "data": {
      "text/plain": [
       "str"
      ]
     },
     "execution_count": 3,
     "metadata": {},
     "output_type": "execute_result"
    }
   ],
   "source": [
    "type(x_str)"
   ]
  },
  {
   "cell_type": "code",
   "execution_count": 4,
   "metadata": {},
   "outputs": [
    {
     "name": "stdout",
     "output_type": "stream",
     "text": [
      "7 6\n",
      "76\n",
      "hello world 6\n",
      "13\n"
     ]
    }
   ],
   "source": [
    "print(x,x_str)\n",
    "print(str(x) + x_str)\n",
    "print(string + ' ' + x_str)\n",
    "print(x + int(x_str))"
   ]
  },
  {
   "cell_type": "markdown",
   "metadata": {},
   "source": [
    "7 -> '7'\n",
    "\"6\" -> 6"
   ]
  },
  {
   "cell_type": "code",
   "execution_count": 5,
   "metadata": {},
   "outputs": [],
   "source": [
    "# int(string)\n",
    "y=float(\"3.2\")"
   ]
  },
  {
   "cell_type": "code",
   "execution_count": 6,
   "metadata": {},
   "outputs": [
    {
     "name": "stdout",
     "output_type": "stream",
     "text": [
      "10.2\n",
      "2.1875\n",
      "2.0\n",
      "1\n"
     ]
    }
   ],
   "source": [
    "print(y + x)\n",
    "print(x/ y)\n",
    "print(x//y)\n",
    "print(x//x)"
   ]
  },
  {
   "cell_type": "code",
   "execution_count": 7,
   "metadata": {},
   "outputs": [],
   "source": [
    "data_list = [0,1,2,3,4,5,6]\n",
    "yet_another_list = ['dog',1,4.56, True,False]"
   ]
  },
  {
   "cell_type": "code",
   "execution_count": 8,
   "metadata": {},
   "outputs": [
    {
     "name": "stdout",
     "output_type": "stream",
     "text": [
      "4\n",
      "[2, 3, 4]\n",
      "7\n"
     ]
    },
    {
     "data": {
      "text/plain": [
       "True"
      ]
     },
     "execution_count": 8,
     "metadata": {},
     "output_type": "execute_result"
    }
   ],
   "source": [
    "print(data_list[4])\n",
    "print(data_list[2:5])\n",
    "print(len(data_list))\n",
    "bool(data_list)"
   ]
  },
  {
   "cell_type": "code",
   "execution_count": 9,
   "metadata": {},
   "outputs": [
    {
     "name": "stdout",
     "output_type": "stream",
     "text": [
      "[0] 1\n",
      "[0, 1] 2\n",
      "[0, 1, 2] 3\n",
      "[0, 1, 2, 3] 4\n",
      "[0, 1, 2, 3, 4] 5\n",
      "[0, 1, 2, 3, 4, 5] 6\n",
      "[0, 1, 2, 3, 4, 5, 6] 7\n",
      "[1, 2, 3, 4, 5, 6]\n",
      "5\n"
     ]
    }
   ],
   "source": [
    "j = []\n",
    "for x in data_list:\n",
    "    j.append(x)\n",
    "    print(j,len(j))\n",
    "#     print(str(x))\n",
    "#     print(data_list.index(x)) \n",
    "print(j[1:len(j)])\n",
    "print(j[-2])"
   ]
  },
  {
   "cell_type": "code",
   "execution_count": 11,
   "metadata": {},
   "outputs": [
    {
     "data": {
      "text/plain": [
       "['dog', 1, 4.56, True, False]"
      ]
     },
     "execution_count": 11,
     "metadata": {},
     "output_type": "execute_result"
    }
   ],
   "source": [
    "yet_another_list"
   ]
  },
  {
   "cell_type": "code",
   "execution_count": 12,
   "metadata": {},
   "outputs": [],
   "source": [
    "def avg(l):\n",
    "    total = 0\n",
    "    for a in l:\n",
    "#         total = total + a\n",
    "        total += a\n",
    "#         print(total)\n",
    "    av = total / len(l)\n",
    "    return av"
   ]
  },
  {
   "cell_type": "code",
   "execution_count": 10,
   "metadata": {},
   "outputs": [
    {
     "name": "stdout",
     "output_type": "stream",
     "text": [
      "we have a 1\n",
      "stuff\n",
      "we did it\n"
     ]
    }
   ],
   "source": [
    "if 'dogs' in yet_another_list:\n",
    "    print('look at all the dogs')\n",
    "elif 1 in yet_another_list:\n",
    "    print ('we have a 1')\n",
    "    print( 'stuff')\n",
    "else:\n",
    "    print('no dogs found')\n",
    "print('we did it')"
   ]
  },
  {
   "cell_type": "code",
   "execution_count": 13,
   "metadata": {},
   "outputs": [
    {
     "data": {
      "text/plain": [
       "41.0"
      ]
     },
     "execution_count": 13,
     "metadata": {},
     "output_type": "execute_result"
    }
   ],
   "source": [
    "t = [22,33,54,66,12,43,73,25]\n",
    "avg(t)"
   ]
  },
  {
   "cell_type": "code",
   "execution_count": 17,
   "metadata": {},
   "outputs": [
    {
     "name": "stdout",
     "output_type": "stream",
     "text": [
      "the average of t is = 41.0\n",
      "CPU times: user 131 µs, sys: 33 µs, total: 164 µs\n",
      "Wall time: 140 µs\n"
     ]
    }
   ],
   "source": [
    "%%time\n",
    "print(\"the average of t is =\",avg(t))"
   ]
  },
  {
   "cell_type": "code",
   "execution_count": null,
   "metadata": {},
   "outputs": [],
   "source": []
  }
 ],
 "metadata": {
  "kernelspec": {
   "display_name": "Python 3",
   "language": "python",
   "name": "python3"
  },
  "language_info": {
   "codemirror_mode": {
    "name": "ipython",
    "version": 3
   },
   "file_extension": ".py",
   "mimetype": "text/x-python",
   "name": "python",
   "nbconvert_exporter": "python",
   "pygments_lexer": "ipython3",
   "version": "3.7.3"
  }
 },
 "nbformat": 4,
 "nbformat_minor": 2
}
