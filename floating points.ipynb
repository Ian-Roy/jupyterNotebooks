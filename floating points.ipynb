{
 "cells": [
  {
   "cell_type": "markdown",
   "metadata": {},
   "source": [
    "## floating point math\n",
    "\n",
    "**before proceeding you should understand these concepts **\n",
    "* binary arithmetic\n",
    "* what real numbers are \n",
    "\n",
    " "
   ]
  },
  {
   "cell_type": "markdown",
   "metadata": {},
   "source": [
    "sometimes the computer does not handle floating point math the way we would expect. There are a few different there are a  different reasons this can happen. at a fundamental level the problem stems from the fact that the set of real numbers cannot, in general, be accurately represented in a fixed space"
   ]
  },
  {
   "cell_type": "code",
   "execution_count": null,
   "metadata": {},
   "outputs": [],
   "source": [
    "%matplotlib inline\n",
    "import math \n",
    "import pandas as pd"
   ]
  },
  {
   "cell_type": "code",
   "execution_count": null,
   "metadata": {},
   "outputs": [],
   "source": [
    "print(f\"0.1 + 0.1 + 0.1 = {0.1+0.1+0.1}\" )\n",
    "print(f\"0.1 + 0.1 + 0.1 -0.3 = {0.1+0.1+0.1-0.3}\")"
   ]
  },
  {
   "cell_type": "markdown",
   "metadata": {},
   "source": [
    "this is a good example of why you should never use strictly equal (==) when comapring floats "
   ]
  },
  {
   "cell_type": "code",
   "execution_count": null,
   "metadata": {},
   "outputs": [],
   "source": [
    "print (0.1 + 0.1 + 0.1 == 0.3)\n",
    "#instead do something like this \n",
    "print (abs(0.1 + 0.1 + 0.1 - 0.3) <= 1.1e-10)\n",
    "#keep in mind we will want to chose an apropriate threshold for the data it wont always be 1.1e-10"
   ]
  },
  {
   "cell_type": "markdown",
   "metadata": {},
   "source": [
    "for most operations floating point math works great. however when we have a situation where we subtract two numbers that are both large and relatively close. as an example lets consider the quadratic equation when $4ac$ is sufficiently smaller than b then the equation on top is $-b - b$ \n",
    "$$ \\frac{-b \\pm \\sqrt{b^2 -4ac} }{2a} = \\frac{2c}{-b \\pm \\sqrt{b^2 - 4ac}}$$\n"
   ]
  },
  {
   "cell_type": "code",
   "execution_count": null,
   "metadata": {},
   "outputs": [],
   "source": [
    "\n",
    "\n",
    "def r1(a,b,c):\n",
    "    return (-b + math.sqrt(b**2 - 4*a*c))/ (2*a)\n",
    "\n",
    "def r2(a,b,c):\n",
    "    return (-b - math.sqrt(b**2 - 4*a*c))/ (2*a)\n",
    "\n",
    "def n1(a,b,c): \n",
    "    return (2*c)/(-b - math.sqrt(b**2 - 4*a*c))\n",
    "\n",
    "def n2(a,b,c):\n",
    "    return (2*c)/(-b + math.sqrt(b**2 - 4*a*c))"
   ]
  },
  {
   "cell_type": "code",
   "execution_count": null,
   "metadata": {},
   "outputs": [],
   "source": [
    "r1_list = [r1(0.5,b,0.1)for b in range(10000,100000)]\n",
    "r2_list = [r2(0.5,b,0.1)for b in range(10000,100000)]\n",
    "n1_list = [n1(0.5,b,0.1)for b in range(10000,100000)]\n",
    "n2_list = [n2(0.5,b,0.1)for b in range(10000,100000)]\n",
    "b_list = [b for b in range(10000,100000)]"
   ]
  },
  {
   "cell_type": "code",
   "execution_count": null,
   "metadata": {},
   "outputs": [],
   "source": [
    "df = pd.DataFrame({'r1':r1_list, 'r2':r2_list, 'n1':n1_list, 'n2':n2_list, 'b':b_list})\n",
    "df.head()\n"
   ]
  },
  {
   "cell_type": "code",
   "execution_count": null,
   "metadata": {},
   "outputs": [],
   "source": [
    "for i in range(90000):\n",
    "    if abs(r2_list[i]) - abs(n2_list[i]) >= 2.2:\n",
    "        print (f'index:{i} r2={r2_list[i]} and n2={n2_list[i]} for a diff of {abs(r2_list[i]) - abs(n2_list[i])}')\n",
    "        "
   ]
  },
  {
   "cell_type": "code",
   "execution_count": null,
   "metadata": {},
   "outputs": [],
   "source": [
    "df['diff']=df.r2-df.n2\n",
    "df.plot(x='b', y='diff')\n",
    "100000-10000"
   ]
  }
 ],
 "metadata": {
  "kernelspec": {
   "display_name": "Python 3",
   "language": "python",
   "name": "python3"
  },
  "language_info": {
   "codemirror_mode": {
    "name": "ipython",
    "version": 3
   },
   "file_extension": ".py",
   "mimetype": "text/x-python",
   "name": "python",
   "nbconvert_exporter": "python",
   "pygments_lexer": "ipython3",
   "version": "3.7.3"
  }
 },
 "nbformat": 4,
 "nbformat_minor": 2
}
