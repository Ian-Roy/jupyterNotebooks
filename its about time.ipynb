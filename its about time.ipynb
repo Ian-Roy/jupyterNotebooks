{
 "cells": [
  {
   "cell_type": "markdown",
   "metadata": {},
   "source": [
    "## time!\n",
    "time is a hard thing to fully understand to begin with, a lot of really smart people have come up with a bunch of different ways of tracking time.\n",
    "\n",
    "lets take a look at the datetime object in python \n",
    "\n",
    "one of the tricky things about dates is that they come in many different formats. to deal with this a common strategy is to use something called UNIX Epoch time. this system works by counting the number of seconds since January first 1970. "
   ]
  },
  {
   "cell_type": "code",
   "execution_count": 9,
   "metadata": {},
   "outputs": [
    {
     "data": {
      "text/plain": [
       "datetime.datetime(2017, 6, 30, 8, 4, 1)"
      ]
     },
     "execution_count": 9,
     "metadata": {},
     "output_type": "execute_result"
    }
   ],
   "source": [
    "import datetime\n",
    "date1 = datetime.date(2017,6,30)\n",
    "date2 = datetime.date(2017,8,5)\n",
    "\n",
    "date_time1 = datetime.datetime(2017,6,30,8,4,1)\n",
    "date_time2 = datetime.datetime(2017,6,30,8,4,1)"
   ]
  },
  {
   "cell_type": "markdown",
   "metadata": {},
   "source": [
    "it is important to notice that the datetime library includes both a datetime object and a date object. the key difference being that the datetime object contains data about a time of day in addition to data about a given date, while the date object only has data about the date not the time. there will be times when you want to use one over another or even both. sometimes you will see import written to only import one or the other. \n",
    "```python\n",
    "    from datetime import datetime\n",
    "    from datetime import date\n",
    "```\n",
    "doing the imports this way makes it so we don't have to do this\n",
    "```python\n",
    "    datetime.datetime(2017,6,30,8,4,1)\n",
    "    datetime.date(2017,6,30)    \n",
    "```\n",
    "instead we can write\n",
    "```python\n",
    "    date(2017,6,30)\n",
    "    datetime(2017,6,30,8,4,1)\n",
    "```\n"
   ]
  },
  {
   "cell_type": "code",
   "execution_count": null,
   "metadata": {},
   "outputs": [],
   "source": []
  }
 ],
 "metadata": {
  "kernelspec": {
   "display_name": "Python 3",
   "language": "python",
   "name": "python3"
  },
  "language_info": {
   "codemirror_mode": {
    "name": "ipython",
    "version": 3
   },
   "file_extension": ".py",
   "mimetype": "text/x-python",
   "name": "python",
   "nbconvert_exporter": "python",
   "pygments_lexer": "ipython3",
   "version": "3.7.3"
  }
 },
 "nbformat": 4,
 "nbformat_minor": 2
}
