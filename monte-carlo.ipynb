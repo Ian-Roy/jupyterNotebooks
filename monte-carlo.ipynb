{
 "cells": [
  {
   "cell_type": "code",
   "execution_count": 1,
   "metadata": {},
   "outputs": [],
   "source": [
    "# !pip install deck_of_cards "
   ]
  },
  {
   "cell_type": "code",
   "execution_count": 2,
   "metadata": {},
   "outputs": [],
   "source": [
    "from deck_of_cards import deck_of_cards\n",
    "from scipy.special import comb\n"
   ]
  },
  {
   "cell_type": "code",
   "execution_count": 3,
   "metadata": {},
   "outputs": [],
   "source": [
    "def play_game(hand_size=5):\n",
    "    obj.shuffle_deck()\n",
    "    d = [x.name for x in obj.deck]\n",
    "    return d[:hand_size]\n",
    "\n",
    "def nck(n,k):\n",
    "    return comb(n,k,exact=True)\n",
    "obj = deck_of_cards.DeckOfCards()"
   ]
  },
  {
   "cell_type": "code",
   "execution_count": 20,
   "metadata": {},
   "outputs": [
    {
     "name": "stdout",
     "output_type": "stream",
     "text": [
      "['Queen of hearts', '9 of clubs', 'Queen of spades', 'Queen of diamonds', 'Queen of clubs']\n",
      "['King of hearts', 'King of clubs', 'King of diamonds', 'Queen of spades', 'King of spades']\n",
      "['8 of hearts', '8 of spades', '7 of clubs', '8 of clubs', '8 of diamonds']\n",
      "['2 of spades', '2 of hearts', '2 of clubs', '3 of diamonds', '2 of diamonds']\n",
      "['Queen of hearts', '8 of clubs', 'Queen of spades', 'Queen of diamonds', 'Queen of clubs']\n",
      "['10 of spades', '10 of diamonds', '10 of clubs', '9 of clubs', '10 of hearts']\n",
      "['9 of diamonds', '9 of hearts', '9 of spades', '9 of clubs', '8 of spades']\n",
      "['2 of diamonds', '2 of spades', '6 of hearts', '2 of clubs', '2 of hearts']\n",
      "['8 of spades', '8 of hearts', '8 of clubs', '7 of spades', '8 of diamonds']\n",
      "['10 of hearts', '5 of clubs', '10 of diamonds', '10 of spades', '10 of clubs']\n",
      "['8 of spades', '8 of hearts', '8 of diamonds', 'Queen of spades', '8 of clubs']\n",
      "['5 of clubs', '5 of diamonds', '5 of spades', '5 of hearts', '10 of hearts']\n",
      "['King of clubs', 'King of diamonds', '8 of hearts', 'King of hearts', 'King of spades']\n",
      "['9 of clubs', '9 of hearts', '9 of spades', '5 of hearts', '9 of diamonds']\n",
      "['Ace of spades', 'Ace of clubs', 'Ace of diamonds', '9 of spades', 'Ace of hearts']\n",
      "['8 of clubs', 'Queen of diamonds', '8 of diamonds', '8 of spades', '8 of hearts']\n",
      "['10 of diamonds', '10 of hearts', '10 of spades', '10 of clubs', 'King of diamonds']\n",
      "['4 of clubs', 'Jack of diamonds', 'Jack of clubs', 'Jack of hearts', 'Jack of spades']\n",
      "['Jack of spades', 'Jack of clubs', '8 of clubs', 'Jack of hearts', 'Jack of diamonds']\n",
      "['7 of clubs', '7 of diamonds', '7 of hearts', '7 of spades', '2 of clubs']\n",
      "['4 of diamonds', '4 of clubs', '4 of spades', '10 of spades', '4 of hearts']\n",
      "['8 of spades', '8 of clubs', '8 of diamonds', 'Queen of diamonds', '8 of hearts']\n",
      "['Queen of diamonds', 'Queen of hearts', 'Queen of spades', '8 of hearts', 'Queen of clubs']\n",
      "['King of spades', 'King of diamonds', 'King of hearts', 'King of clubs', 'Queen of clubs']\n",
      "['2 of clubs', 'King of clubs', 'King of spades', 'King of diamonds', 'King of hearts']\n",
      "['2 of clubs', '2 of diamonds', '2 of spades', '2 of hearts', 'Jack of diamonds']\n",
      "['7 of hearts', '7 of diamonds', '7 of spades', '2 of clubs', '7 of clubs']\n",
      "['Jack of diamonds', 'Jack of spades', '10 of clubs', 'Jack of hearts', 'Jack of clubs']\n",
      "['Queen of diamonds', '10 of spades', 'Queen of spades', 'Queen of hearts', 'Queen of clubs']\n",
      "['3 of spades', '3 of hearts', '3 of clubs', '6 of spades', '3 of diamonds']\n",
      "['4 of hearts', '4 of spades', '4 of clubs', '4 of diamonds', '6 of spades']\n",
      "['10 of clubs', '10 of spades', '10 of hearts', '9 of hearts', '10 of diamonds']\n",
      "['4 of hearts', '4 of diamonds', '4 of clubs', '4 of spades', '5 of hearts']\n",
      "['2 of spades', '9 of hearts', '2 of clubs', '2 of hearts', '2 of diamonds']\n",
      "['7 of diamonds', 'Queen of clubs', '7 of spades', '7 of clubs', '7 of hearts']\n",
      "['4 of spades', 'King of hearts', '4 of diamonds', '4 of hearts', '4 of clubs']\n",
      "['7 of clubs', '7 of hearts', 'King of hearts', '7 of spades', '7 of diamonds']\n",
      "['Ace of clubs', 'Ace of spades', '7 of hearts', 'Ace of diamonds', 'Ace of hearts']\n",
      "['6 of hearts', 'Jack of spades', '6 of spades', '6 of clubs', '6 of diamonds']\n",
      "['9 of spades', '4 of hearts', '9 of clubs', '9 of diamonds', '9 of hearts']\n",
      "['6 of spades', '6 of clubs', '10 of hearts', '6 of hearts', '6 of diamonds']\n",
      "['King of diamonds', 'King of spades', 'King of hearts', 'King of clubs', '7 of hearts']\n",
      "['4 of spades', 'Jack of clubs', 'Jack of hearts', 'Jack of spades', 'Jack of diamonds']\n",
      "['6 of spades', '6 of diamonds', '6 of clubs', '6 of hearts', '4 of spades']\n",
      "['Jack of spades', 'Jack of diamonds', '3 of clubs', 'Jack of hearts', 'Jack of clubs']\n",
      "['Queen of diamonds', 'Queen of hearts', 'Queen of spades', 'Queen of clubs', '3 of hearts']\n",
      "['7 of diamonds', 'Ace of clubs', '7 of hearts', '7 of clubs', '7 of spades']\n",
      "['5 of clubs', '5 of spades', '5 of hearts', '5 of diamonds', '7 of diamonds']\n",
      "['Jack of diamonds', 'King of clubs', 'Jack of spades', 'Jack of hearts', 'Jack of clubs']\n",
      "['8 of spades', '4 of diamonds', '4 of clubs', '4 of spades', '4 of hearts']\n",
      "['King of spades', 'King of hearts', 'King of clubs', 'Queen of clubs', 'King of diamonds']\n",
      "['Ace of hearts', '10 of clubs', '10 of diamonds', '10 of spades', '10 of hearts']\n",
      "['5 of clubs', '5 of diamonds', '4 of diamonds', '5 of hearts', '5 of spades']\n",
      "['Ace of spades', 'Ace of clubs', 'Ace of hearts', '6 of clubs', 'Ace of diamonds']\n",
      "['10 of diamonds', '10 of clubs', '10 of hearts', '10 of spades', 'Queen of clubs']\n",
      "['Jack of diamonds', 'Jack of spades', '8 of clubs', 'Jack of clubs', 'Jack of hearts']\n",
      "['4 of diamonds', '4 of clubs', '4 of hearts', '10 of hearts', '4 of spades']\n",
      "['10 of spades', '8 of spades', '8 of clubs', '8 of diamonds', '8 of hearts']\n",
      "['9 of diamonds', '9 of spades', '9 of clubs', '9 of hearts', '8 of hearts']\n",
      "['4 of clubs', '4 of spades', '4 of diamonds', 'Queen of spades', '4 of hearts']\n",
      "['2 of diamonds', '5 of diamonds', '5 of hearts', '5 of clubs', '5 of spades']\n",
      "['5 of spades', '5 of diamonds', 'King of hearts', '5 of hearts', '5 of clubs']\n",
      "['2 of diamonds', '2 of spades', '2 of hearts', '9 of spades', '2 of clubs']\n",
      "['9 of clubs', '9 of diamonds', '9 of hearts', '2 of diamonds', '9 of spades']\n",
      "['10 of diamonds', '10 of hearts', '10 of spades', '10 of clubs', 'Jack of spades']\n",
      "['Jack of spades', 'Jack of hearts', 'Jack of diamonds', '7 of diamonds', 'Jack of clubs']\n",
      "['9 of hearts', '2 of hearts', '2 of diamonds', '2 of clubs', '2 of spades']\n",
      "['10 of hearts', '6 of spades', '6 of hearts', '6 of clubs', '6 of diamonds']\n",
      "['Ace of spades', '6 of spades', '6 of diamonds', '6 of hearts', '6 of clubs']\n",
      "['8 of hearts', '10 of hearts', '8 of diamonds', '8 of spades', '8 of clubs']\n",
      "['4 of hearts', 'Jack of diamonds', '4 of clubs', '4 of diamonds', '4 of spades']\n",
      "['10 of spades', '10 of hearts', '10 of clubs', '10 of diamonds', '5 of spades']\n",
      "['4 of spades', '8 of diamonds', '4 of clubs', '4 of hearts', '4 of diamonds']\n",
      "['8 of hearts', '8 of diamonds', '8 of spades', '8 of clubs', 'Ace of diamonds']\n",
      "['2 of clubs', '2 of spades', '2 of diamonds', 'Queen of hearts', '2 of hearts']\n",
      "['9 of diamonds', '9 of spades', 'Queen of hearts', '9 of hearts', '9 of clubs']\n",
      "['9 of hearts', 'King of hearts', 'King of diamonds', 'King of spades', 'King of clubs']\n",
      "['Queen of spades', 'Queen of diamonds', 'Queen of clubs', 'Queen of hearts', 'King of clubs']\n",
      "['King of diamonds', 'King of hearts', 'King of clubs', '2 of spades', 'King of spades']\n",
      "['7 of hearts', '7 of diamonds', '7 of clubs', '7 of spades', '2 of clubs']\n",
      "['6 of spades', '6 of clubs', '6 of diamonds', '7 of hearts', '6 of hearts']\n",
      "['Ace of hearts', 'Ace of spades', 'Ace of diamonds', '10 of diamonds', 'Ace of clubs']\n",
      "['6 of diamonds', '4 of spades', '4 of diamonds', '4 of clubs', '4 of hearts']\n",
      "['4 of clubs', 'Jack of hearts', '4 of diamonds', '4 of spades', '4 of hearts']\n",
      "['King of spades', '7 of diamonds', '7 of spades', '7 of hearts', '7 of clubs']\n",
      "['4 of hearts', '4 of spades', '4 of clubs', '4 of diamonds', '10 of hearts']\n",
      "['Ace of clubs', 'Ace of diamonds', 'King of clubs', 'Ace of hearts', 'Ace of spades']\n",
      "['8 of hearts', '8 of diamonds', '8 of spades', '8 of clubs', '4 of spades']\n",
      "['7 of hearts', '7 of spades', '7 of diamonds', '7 of clubs', 'Jack of clubs']\n",
      "['2 of hearts', '2 of clubs', '2 of diamonds', 'Ace of clubs', '2 of spades']\n",
      "['8 of diamonds', '8 of spades', '5 of hearts', '8 of hearts', '8 of clubs']\n",
      "['2 of spades', '2 of hearts', '2 of clubs', 'Ace of clubs', '2 of diamonds']\n",
      "['4 of spades', '4 of clubs', 'Ace of clubs', '4 of hearts', '4 of diamonds']\n",
      "['2 of spades', '6 of spades', '2 of diamonds', '2 of hearts', '2 of clubs']\n",
      "['4 of clubs', '4 of spades', '9 of diamonds', '4 of diamonds', '4 of hearts']\n",
      "['2 of diamonds', '2 of spades', '2 of hearts', '2 of clubs', '8 of clubs']\n",
      "['Jack of hearts', 'Jack of clubs', '5 of clubs', 'Jack of diamonds', 'Jack of spades']\n",
      "['7 of diamonds', '7 of spades', '7 of clubs', '7 of hearts', '8 of diamonds']\n",
      "['5 of hearts', '5 of spades', '4 of hearts', '5 of diamonds', '5 of clubs']\n",
      "['8 of spades', '8 of clubs', '8 of diamonds', '8 of hearts', '6 of clubs']\n",
      "['2 of diamonds', '2 of clubs', '2 of hearts', '3 of spades', '2 of spades']\n",
      "['10 of clubs', 'Queen of clubs', 'Queen of spades', 'Queen of diamonds', 'Queen of hearts']\n"
     ]
    },
    {
     "name": "stdout",
     "output_type": "stream",
     "text": [
      "['4 of hearts', '4 of clubs', '5 of diamonds', '4 of diamonds', '4 of spades']\n",
      "['King of clubs', 'Jack of spades', 'Jack of clubs', 'Jack of hearts', 'Jack of diamonds']\n",
      "['7 of spades', '7 of clubs', '2 of hearts', '7 of hearts', '7 of diamonds']\n",
      "['7 of hearts', '10 of spades', '10 of clubs', '10 of diamonds', '10 of hearts']\n",
      "['4 of diamonds', '4 of clubs', 'Jack of diamonds', '4 of spades', '4 of hearts']\n",
      "['3 of diamonds', '3 of clubs', '3 of spades', '4 of clubs', '3 of hearts']\n",
      "0.000216\n"
     ]
    },
    {
     "data": {
      "text/plain": [
       "108"
      ]
     },
     "execution_count": 20,
     "metadata": {},
     "output_type": "execute_result"
    }
   ],
   "source": [
    "games=500000\n",
    "win = 0\n",
    "for x in range(games):\n",
    "\n",
    "    hand = play_game()\n",
    "    card_type = []\n",
    "    for card in hand:\n",
    "        card_type.append(card.split(\" \")[0])\n",
    "    four_of_a_kind=False\n",
    "    for card in card_type:\n",
    "        if card_type.count(card) == 4:\n",
    "            four_of_a_kind = True\n",
    "            break\n",
    "    if(four_of_a_kind):\n",
    "        win +=1\n",
    "        print(hand)     \n",
    "print(win/games)\n",
    "win"
   ]
  },
  {
   "cell_type": "code",
   "execution_count": 19,
   "metadata": {},
   "outputs": [
    {
     "data": {
      "text/plain": [
       "2598960"
      ]
     },
     "execution_count": 19,
     "metadata": {},
     "output_type": "execute_result"
    }
   ],
   "source": [
    "nck(52,5)"
   ]
  },
  {
   "cell_type": "code",
   "execution_count": null,
   "metadata": {},
   "outputs": [],
   "source": [
    "[x.name for x in deck.deck]"
   ]
  },
  {
   "cell_type": "code",
   "execution_count": null,
   "metadata": {},
   "outputs": [],
   "source": [
    "deck.shuffle_deck()"
   ]
  },
  {
   "cell_type": "code",
   "execution_count": null,
   "metadata": {},
   "outputs": [],
   "source": []
  }
 ],
 "metadata": {
  "kernelspec": {
   "display_name": "Python 3",
   "language": "python",
   "name": "python3"
  },
  "language_info": {
   "codemirror_mode": {
    "name": "ipython",
    "version": 3
   },
   "file_extension": ".py",
   "mimetype": "text/x-python",
   "name": "python",
   "nbconvert_exporter": "python",
   "pygments_lexer": "ipython3",
   "version": "3.7.3"
  }
 },
 "nbformat": 4,
 "nbformat_minor": 2
}
