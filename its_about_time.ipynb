{
 "cells": [
  {
   "cell_type": "markdown",
   "metadata": {},
   "source": [
    "## time!\n",
    "time is a hard thing to fully understand to begin with, a lot of really smart people have come up with a bunch of different ways of tracking time.\n",
    "\n",
    "lets take a look at the datetime object in python \n",
    "\n",
    " "
   ]
  },
  {
   "cell_type": "code",
   "execution_count": 1,
   "metadata": {},
   "outputs": [],
   "source": [
    "import datetime\n",
    "date1 = datetime.date(2017,6,30)\n",
    "date2 = datetime.date(2017,8,5)\n",
    "\n",
    "date_time1 = datetime.datetime(2017,6,30,8,4,1)\n",
    "date_time2 = datetime.datetime(2017,6,30,8,4,1)"
   ]
  },
  {
   "cell_type": "markdown",
   "metadata": {},
   "source": [
    "it is important to notice that the datetime library includes a time object a date object and a datetime object. the key difference being that the datetime object contains data about a time of day in addition to data about a given date, while the date object only has data about the date not the time, and the time object only cares about the time of day. there will be times when you want to use one over another. \n",
    "\n",
    "sometimes you will see import written to only import one of these objects as opposed to the entire datetime class.\n",
    "```python\n",
    "    from datetime import datetime\n",
    "    from datetime import date\n",
    "    from datetime import time \n",
    "```\n",
    "doing the imports this way makes it so we don't have to do this\n",
    "```python\n",
    "    datetime.datetime(2017,6,30,8,4,1)\n",
    "    datetime.date(2017,6,30)   \n",
    "    datetime.time(8,4,1)\n",
    "```\n",
    "instead we can write\n",
    "```python\n",
    "    date(2017,6,30)\n",
    "    datetime(2017,6,30,8,4,1)\n",
    "    time(8,4,1)\n",
    "```\n",
    "I personaly really think it is easier to write `date` instead of `datetime.date` so that is what i will use for the rest of this workbook\n"
   ]
  },
  {
   "cell_type": "code",
   "execution_count": 2,
   "metadata": {},
   "outputs": [],
   "source": [
    "from datetime import datetime\n",
    "from datetime import date\n",
    "from datetime import time \n",
    "import datetime as dt"
   ]
  },
  {
   "cell_type": "markdown",
   "metadata": {},
   "source": [
    "one really cool thing we can do is get the difference of two datetimes. when we do subtraction on datetime objects we get a new type of object returned called a timedelta"
   ]
  },
  {
   "cell_type": "code",
   "execution_count": 3,
   "metadata": {},
   "outputs": [
    {
     "data": {
      "text/plain": [
       "datetime.timedelta(days=-365)"
      ]
     },
     "execution_count": 3,
     "metadata": {},
     "output_type": "execute_result"
    }
   ],
   "source": [
    "datetime(2017,6,30,8,4,1) - datetime(2018,6,30,8,4,1)"
   ]
  },
  {
   "cell_type": "markdown",
   "metadata": {},
   "source": [
    "the the datetime libary gives us a handful of useful functions"
   ]
  },
  {
   "cell_type": "code",
   "execution_count": 4,
   "metadata": {
    "scrolled": true
   },
   "outputs": [
    {
     "name": "stdout",
     "output_type": "stream",
     "text": [
      "2019-09-17 09:49:06.342970\n",
      "2019-09-17 13:49:06.343075\n",
      "1 2\n"
     ]
    }
   ],
   "source": [
    "print(datetime.now())\n",
    "print(datetime.utcnow())\n",
    "today = datetime.now()\n",
    "\n",
    "print(today.weekday(),today.isoweekday())"
   ]
  },
  {
   "cell_type": "code",
   "execution_count": 5,
   "metadata": {},
   "outputs": [
    {
     "data": {
      "text/plain": [
       "'Tue Sep 17 09:49:06 2019'"
      ]
     },
     "execution_count": 5,
     "metadata": {},
     "output_type": "execute_result"
    }
   ],
   "source": [
    "today.ctime()"
   ]
  },
  {
   "cell_type": "code",
   "execution_count": 6,
   "metadata": {},
   "outputs": [
    {
     "data": {
      "text/plain": [
       "'2019-09-17T09:49:06.343123'"
      ]
     },
     "execution_count": 6,
     "metadata": {},
     "output_type": "execute_result"
    }
   ],
   "source": [
    "today.isoformat()"
   ]
  },
  {
   "cell_type": "markdown",
   "metadata": {},
   "source": [
    "sometimes we want to turn our date back into a string but our end users will not understand the fromating given by `.ctime()` or `.isoformat()`. this is where the  `.strftime()` can be useful. it will allow us to print our dates in whatever style we want. I will show some examples but for a complete list check out the \n",
    "\n",
    "the `.strftime()` function take a string as an argument. the string can be anything you want to display. for example if you had \n",
    "\n",
    "```python\n",
    "    today.strftime('today is %A the %d day of %B')\n",
    "```\n",
    ">today is Saturday the 14 day of September\n",
    "\n",
    "notice how %A is replaced with the full day name and %d is replaced with the day number and %B the full month name. there are many more options we can use for a full like check out the [docs](https://docs.python.org/3/library/datetime.html#strftime-strptime-behavior) here \n"
   ]
  },
  {
   "cell_type": "code",
   "execution_count": 12,
   "metadata": {},
   "outputs": [
    {
     "name": "stdout",
     "output_type": "stream",
     "text": [
      "2019-09-17 09:49:06.343123\n",
      "today is Tuesday the 17 day of September\n",
      "2019-09-17 09:49:06AM\n",
      "it is the 09 hour\n"
     ]
    }
   ],
   "source": [
    "print(today)\n",
    "print(today.strftime('today is %A the %d day of %B'))\n",
    "print(today.strftime('%Y-%m-%d %I:%M:%S%p'))\n",
    "print(today.strftime('it is the %H hour'))"
   ]
  },
  {
   "cell_type": "markdown",
   "metadata": {},
   "source": [
    "what if we had a dataset "
   ]
  },
  {
   "cell_type": "code",
   "execution_count": 29,
   "metadata": {},
   "outputs": [
    {
     "data": {
      "text/html": [
       "<div>\n",
       "<style scoped>\n",
       "    .dataframe tbody tr th:only-of-type {\n",
       "        vertical-align: middle;\n",
       "    }\n",
       "\n",
       "    .dataframe tbody tr th {\n",
       "        vertical-align: top;\n",
       "    }\n",
       "\n",
       "    .dataframe thead th {\n",
       "        text-align: right;\n",
       "    }\n",
       "</style>\n",
       "<table border=\"1\" class=\"dataframe\">\n",
       "  <thead>\n",
       "    <tr style=\"text-align: right;\">\n",
       "      <th></th>\n",
       "      <th>date</th>\n",
       "      <th>other_dates</th>\n",
       "      <th>another_date_col</th>\n",
       "    </tr>\n",
       "  </thead>\n",
       "  <tbody>\n",
       "    <tr>\n",
       "      <th>0</th>\n",
       "      <td>2019-03-23</td>\n",
       "      <td>03/08/10</td>\n",
       "      <td>2010-03-08</td>\n",
       "    </tr>\n",
       "    <tr>\n",
       "      <th>1</th>\n",
       "      <td>2018-01-21</td>\n",
       "      <td>04/09/17</td>\n",
       "      <td>2017-04-09</td>\n",
       "    </tr>\n",
       "    <tr>\n",
       "      <th>2</th>\n",
       "      <td>2017-05-05</td>\n",
       "      <td>04/10/19</td>\n",
       "      <td>2019-04-10</td>\n",
       "    </tr>\n",
       "  </tbody>\n",
       "</table>\n",
       "</div>"
      ],
      "text/plain": [
       "        date other_dates another_date_col\n",
       "0 2019-03-23    03/08/10       2010-03-08\n",
       "1 2018-01-21    04/09/17       2017-04-09\n",
       "2 2017-05-05    04/10/19       2019-04-10"
      ]
     },
     "execution_count": 29,
     "metadata": {},
     "output_type": "execute_result"
    }
   ],
   "source": [
    "import pandas as pd\n",
    "data = ['23/03/19','21/01/18','05/05/17']\n",
    "weird_data = ['03/08/10','04/09/17','04/10/19']\n",
    "d=pd.DataFrame({'date':data, 'other_dates':weird_data})\n",
    "d['another_date_col'] = pd.to_datetime(d['other_dates'])\n",
    "d['date'] = pd.to_datetime( d['date'])\n",
    "d.dtypes\n",
    "d"
   ]
  },
  {
   "cell_type": "code",
   "execution_count": 30,
   "metadata": {},
   "outputs": [
    {
     "data": {
      "text/html": [
       "<div>\n",
       "<style scoped>\n",
       "    .dataframe tbody tr th:only-of-type {\n",
       "        vertical-align: middle;\n",
       "    }\n",
       "\n",
       "    .dataframe tbody tr th {\n",
       "        vertical-align: top;\n",
       "    }\n",
       "\n",
       "    .dataframe thead th {\n",
       "        text-align: right;\n",
       "    }\n",
       "</style>\n",
       "<table border=\"1\" class=\"dataframe\">\n",
       "  <thead>\n",
       "    <tr style=\"text-align: right;\">\n",
       "      <th></th>\n",
       "      <th>date</th>\n",
       "      <th>other_dates</th>\n",
       "      <th>another_date_col</th>\n",
       "      <th>good_dates</th>\n",
       "    </tr>\n",
       "  </thead>\n",
       "  <tbody>\n",
       "    <tr>\n",
       "      <th>0</th>\n",
       "      <td>2019-03-23</td>\n",
       "      <td>03/08/10</td>\n",
       "      <td>2010-03-08</td>\n",
       "      <td>2010-08-03</td>\n",
       "    </tr>\n",
       "    <tr>\n",
       "      <th>1</th>\n",
       "      <td>2018-01-21</td>\n",
       "      <td>04/09/17</td>\n",
       "      <td>2017-04-09</td>\n",
       "      <td>2017-09-04</td>\n",
       "    </tr>\n",
       "    <tr>\n",
       "      <th>2</th>\n",
       "      <td>2017-05-05</td>\n",
       "      <td>04/10/19</td>\n",
       "      <td>2019-04-10</td>\n",
       "      <td>2019-10-04</td>\n",
       "    </tr>\n",
       "  </tbody>\n",
       "</table>\n",
       "</div>"
      ],
      "text/plain": [
       "        date other_dates another_date_col good_dates\n",
       "0 2019-03-23    03/08/10       2010-03-08 2010-08-03\n",
       "1 2018-01-21    04/09/17       2017-04-09 2017-09-04\n",
       "2 2017-05-05    04/10/19       2019-04-10 2019-10-04"
      ]
     },
     "execution_count": 30,
     "metadata": {},
     "output_type": "execute_result"
    }
   ],
   "source": [
    "good_dates = [datetime.strptime(date_str, '%d/%m/%y') for date_str in weird_data]\n",
    "d['good_dates']= good_dates\n",
    "d"
   ]
  },
  {
   "cell_type": "markdown",
   "metadata": {},
   "source": [
    "one of the tricky things about dates is that they come in many different formats. to deal with this a common strategy is to use something called UNIX Epoch time. this system works by counting the number of seconds since January first 1970.\n"
   ]
  },
  {
   "cell_type": "code",
   "execution_count": 24,
   "metadata": {},
   "outputs": [
    {
     "name": "stdout",
     "output_type": "stream",
     "text": [
      "1568728146.343123\n",
      "1568713746.343123\n"
     ]
    }
   ],
   "source": [
    "print(today.timestamp())\n",
    "print(today.replace(tzinfo=dt.timezone.utc).timestamp())\n"
   ]
  },
  {
   "cell_type": "code",
   "execution_count": 35,
   "metadata": {},
   "outputs": [
    {
     "data": {
      "text/plain": [
       "4.0"
      ]
     },
     "execution_count": 35,
     "metadata": {},
     "output_type": "execute_result"
    }
   ],
   "source": [
    "(today.timestamp()-today.replace(tzinfo=dt.timezone.utc).timestamp())/60/60"
   ]
  },
  {
   "cell_type": "code",
   "execution_count": 38,
   "metadata": {},
   "outputs": [
    {
     "data": {
      "text/plain": [
       "49.74404319961704"
      ]
     },
     "execution_count": 38,
     "metadata": {},
     "output_type": "execute_result"
    }
   ],
   "source": [
    "# years since 1970\n",
    "today.timestamp()/60/60/24/365"
   ]
  },
  {
   "cell_type": "code",
   "execution_count": null,
   "metadata": {},
   "outputs": [],
   "source": []
  }
 ],
 "metadata": {
  "kernelspec": {
   "display_name": "Python 3",
   "language": "python",
   "name": "python3"
  },
  "language_info": {
   "codemirror_mode": {
    "name": "ipython",
    "version": 3
   },
   "file_extension": ".py",
   "mimetype": "text/x-python",
   "name": "python",
   "nbconvert_exporter": "python",
   "pygments_lexer": "ipython3",
   "version": "3.7.3"
  }
 },
 "nbformat": 4,
 "nbformat_minor": 2
}
