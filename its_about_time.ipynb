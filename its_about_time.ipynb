{
 "cells": [
  {
   "cell_type": "markdown",
   "metadata": {},
   "source": [
    "## time!\n",
    "time is a hard thing to fully understand to begin with, a lot of really smart people have come up with a bunch of different ways of tracking time.\n",
    "\n",
    "lets take a look at the datetime object in python \n",
    "\n",
    "one of the tricky things about dates is that they come in many different formats. to deal with this a common strategy is to use something called UNIX Epoch time. this system works by counting the number of seconds since January first 1970. "
   ]
  },
  {
   "cell_type": "code",
   "execution_count": 9,
   "metadata": {},
   "outputs": [
    {
     "data": {
      "text/plain": [
       "datetime.datetime(2017, 6, 30, 8, 4, 1)"
      ]
     },
     "execution_count": 9,
     "metadata": {},
     "output_type": "execute_result"
    }
   ],
   "source": [
    "import datetime\n",
    "date1 = datetime.date(2017,6,30)\n",
    "date2 = datetime.date(2017,8,5)\n",
    "\n",
    "date_time1 = datetime.datetime(2017,6,30,8,4,1)\n",
    "date_time2 = datetime.datetime(2017,6,30,8,4,1)"
   ]
  },
  {
   "cell_type": "markdown",
   "metadata": {},
   "source": [
    "it is important to notice that the datetime library includes a time object a date object and a datetime object. the key difference being that the datetime object contains data about a time of day in addition to data about a given date, while the date object only has data about the date not the time, and the time object only cares about the time of day. there will be times when you want to use one over another. \n",
    "\n",
    "sometimes you will see import written to only import one of these objects as opposed to the entire datetime class.\n",
    "```python\n",
    "    from datetime import datetime\n",
    "    from datetime import date\n",
    "    from datetime import time \n",
    "```\n",
    "doing the imports this way makes it so we don't have to do this\n",
    "```python\n",
    "    datetime.datetime(2017,6,30,8,4,1)\n",
    "    datetime.date(2017,6,30)   \n",
    "    datetime.time(8,4,1)\n",
    "```\n",
    "instead we can write\n",
    "```python\n",
    "    date(2017,6,30)\n",
    "    datetime(2017,6,30,8,4,1)\n",
    "    time(8,4,1)\n",
    "```\n",
    "I personaly really think it is easier to write `date` instead of `datetime.date` so that is what i will use for the rest of this workbook\n"
   ]
  },
  {
   "cell_type": "code",
   "execution_count": 5,
   "metadata": {},
   "outputs": [],
   "source": [
    "from datetime import datetime\n",
    "from datetime import date\n",
    "from datetime import time "
   ]
  },
  {
   "cell_type": "markdown",
   "metadata": {},
   "source": [
    "one really cool thing we can do is get the difference of two datetimes. when we do subtraction on datetime objects we get a new type of object returned called a timedelta"
   ]
  },
  {
   "cell_type": "code",
   "execution_count": 10,
   "metadata": {},
   "outputs": [
    {
     "data": {
      "text/plain": [
       "datetime.timedelta(days=-365)"
      ]
     },
     "execution_count": 10,
     "metadata": {},
     "output_type": "execute_result"
    }
   ],
   "source": [
    "datetime(2017,6,30,8,4,1) - datetime(2018,6,30,8,4,1)"
   ]
  },
  {
   "cell_type": "markdown",
   "metadata": {},
   "source": [
    "the the datetime libary gives us a handful of useful functions"
   ]
  },
  {
   "cell_type": "code",
   "execution_count": 27,
   "metadata": {
    "scrolled": true
   },
   "outputs": [
    {
     "name": "stdout",
     "output_type": "stream",
     "text": [
      "2019-09-14 13:03:39.585290\n",
      "2019-09-14 17:03:39.585685\n",
      "5 6\n"
     ]
    }
   ],
   "source": [
    "print(datetime.now())\n",
    "print(datetime.utcnow())\n",
    "today = datetime.now()\n",
    "\n",
    "print(today.weekday(),today.isoweekday())"
   ]
  },
  {
   "cell_type": "code",
   "execution_count": 32,
   "metadata": {},
   "outputs": [
    {
     "data": {
      "text/plain": [
       "'Sat Sep 14 13:03:39 2019'"
      ]
     },
     "execution_count": 32,
     "metadata": {},
     "output_type": "execute_result"
    }
   ],
   "source": [
    "today.ctime()"
   ]
  },
  {
   "cell_type": "code",
   "execution_count": 36,
   "metadata": {},
   "outputs": [
    {
     "data": {
      "text/plain": [
       "'2019-09-14T13:03:39.585975'"
      ]
     },
     "execution_count": 36,
     "metadata": {},
     "output_type": "execute_result"
    }
   ],
   "source": [
    "today.isoformat()"
   ]
  },
  {
   "cell_type": "code",
   "execution_count": 41,
   "metadata": {},
   "outputs": [
    {
     "data": {
      "text/plain": [
       "1568480619.585975"
      ]
     },
     "execution_count": 41,
     "metadata": {},
     "output_type": "execute_result"
    }
   ],
   "source": [
    "today.timestamp()"
   ]
  },
  {
   "cell_type": "markdown",
   "metadata": {},
   "source": [
    "sometimes we want to turn our date back into a string but our end users will not understand the fromating given by `.ctime()` or `.isoformat()`. this is where the  `.strftime()` can be useful. it will allow us to print our dates in whatever style we want. I will show some examples but for a complete list check out the \n",
    "\n",
    "the `.strftime()` function take a string as an argument. the string can be anything you want to display. for example if you had \n",
    "\n",
    "```python\n",
    "    today.strftime('today is %A the %d day of %B')\n",
    "```\n",
    ">today is Saturday the 14 day of September\n",
    "\n",
    "notice how %A is replaced with the full day name and %d is replaced with the day number and %B the full month name. there are many more options we can use for a full like check out the [docs](https://docs.python.org/3/library/datetime.html#strftime-strptime-behavior) here \n"
   ]
  },
  {
   "cell_type": "code",
   "execution_count": 59,
   "metadata": {},
   "outputs": [
    {
     "name": "stdout",
     "output_type": "stream",
     "text": [
      "2019-09-14 13:03:39.585975\n",
      "today is Saturday the 14 day of September\n",
      "2019-09-14 01:03:39PM\n"
     ]
    }
   ],
   "source": [
    "print(today)\n",
    "print(today.strftime('today is %A the %d day of %B'))\n",
    "print(today.strftime('%Y-%m-%d %I:%M:%S%p'))"
   ]
  },
  {
   "cell_type": "code",
   "execution_count": null,
   "metadata": {},
   "outputs": [],
   "source": []
  },
  {
   "cell_type": "code",
   "execution_count": null,
   "metadata": {},
   "outputs": [],
   "source": []
  }
 ],
 "metadata": {
  "kernelspec": {
   "display_name": "Python 3",
   "language": "python",
   "name": "python3"
  },
  "language_info": {
   "codemirror_mode": {
    "name": "ipython",
    "version": 3
   },
   "file_extension": ".py",
   "mimetype": "text/x-python",
   "name": "python",
   "nbconvert_exporter": "python",
   "pygments_lexer": "ipython3",
   "version": "3.7.3"
  }
 },
 "nbformat": 4,
 "nbformat_minor": 2
}
