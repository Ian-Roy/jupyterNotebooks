{
 "cells": [
  {
   "cell_type": "markdown",
   "metadata": {},
   "source": [
    "i have started off by creating a list of dictionaries to store some basic info about my dogs. \n",
    "\n",
    "notice that each dictionary object represents one of my many dogs. they are colected in a list of dic"
   ]
  },
  {
   "cell_type": "code",
   "execution_count": 18,
   "metadata": {},
   "outputs": [],
   "source": [
    "from datetime import date\n",
    "dogs=[]\n",
    "dogs.append({'name': 'scout',\n",
    "       'dog_type':['husky','german shepard'],\n",
    "      'age':4,\n",
    "      'gender':'male',\n",
    "      'weight':72.5,\n",
    "      'birthdate':date(2015,12,4),\n",
    "      'alive':True,\n",
    "      'color':'white'})\n",
    "dogs.append({'name':'jack',\n",
    "      'dog_type':['hound','mix'],\n",
    "      'age':1,\n",
    "      'alive':True,\n",
    "      'gender':'male',\n",
    "      'weight':68.7,\n",
    "      'birthdate':date(2018,9,4),\n",
    "      'color':'brown'})          \n",
    "dogs.append({'name':'zoey',\n",
    "      'dog_type':['golden retriver','great pyrenees'],\n",
    "      'age':2,\n",
    "      'alive':True,\n",
    "      'weight':85.5,\n",
    "      'birthdate':date(2017,9,4),\n",
    "      'gender':'female',\n",
    "      'color':'white'})\n",
    "dogs.append({'name':'rose',\n",
    "      'dog_type':['english setter'],\n",
    "      'age':1,\n",
    "      'alive':True,\n",
    "      'weight':42.0,\n",
    "      'birthdate':date(2018,5,4),\n",
    "      'gender':'female',\n",
    "      'color':'black and white'})\n",
    "dogs.append({'name':'daisy',\n",
    "      'dog_type':['australian shepherd','mix'],\n",
    "      'age':10,\n",
    "      'weight':52.3,\n",
    "      'alive':False,\n",
    "      'gender':'female',\n",
    "      'color':'brown'})\n",
    "dogs.append({'name':'ponzu',\n",
    "      'dog_type':['cat'],\n",
    "      'age':1,\n",
    "      'weight':8.7,\n",
    "      'alive':True,\n",
    "      'gender':'male',\n",
    "      'color':'black and white'})\n",
    "\n",
    "\n",
    "             \n",
    "    \n",
    "\n",
    "      "
   ]
  },
  {
   "cell_type": "code",
   "execution_count": 6,
   "metadata": {},
   "outputs": [
    {
     "name": "stdout",
     "output_type": "stream",
     "text": [
      "scout is 4 years old\n",
      "jack is 1 years old\n"
     ]
    }
   ],
   "source": [
    "# list the names and age of all of my male dogs\n",
    "for dog in dogs:\n",
    "    if dog['gender'] == 'male':\n",
    "        print(dog['name'] + ' is ' + str(dog['age']) + ' years old')"
   ]
  },
  {
   "cell_type": "code",
   "execution_count": 23,
   "metadata": {},
   "outputs": [
    {
     "name": "stdout",
     "output_type": "stream",
     "text": [
      "scout is 72.5 pounds\n",
      "jack is 68.7 pounds\n",
      "zoey is 85.5 pounds\n",
      "daisy was 52.3 pounds\n"
     ]
    }
   ],
   "source": [
    "# print all the dogs over 50 pounds\n",
    "for dog in dogs:\n",
    "    if dog['weight'] > 50:\n",
    "        if dog['alive']:\n",
    "            con = ' is '\n",
    "        else:\n",
    "            con = ' was '\n",
    "        print(dog['name'] + con + str(dog['weight']) + ' pounds')"
   ]
  },
  {
   "cell_type": "markdown",
   "metadata": {},
   "source": [
    "sometimes keys will not exist over our entire dataset.in my example data set some birthdates are missing. if we try amd do something like but we can "
   ]
  },
  {
   "cell_type": "code",
   "execution_count": 20,
   "metadata": {},
   "outputs": [
    {
     "name": "stdout",
     "output_type": "stream",
     "text": [
      "2015-12-04\n",
      "2018-09-04\n",
      "2017-09-04\n",
      "2017-09-04\n",
      "None\n",
      "None\n"
     ]
    }
   ],
   "source": [
    "for dog in dogs:\n",
    "    print(dog['birthdate'])\n",
    "#     print(dog.get('birthdate'))"
   ]
  },
  {
   "cell_type": "markdown",
   "metadata": {},
   "source": []
  },
  {
   "cell_type": "markdown",
   "metadata": {},
   "source": [
    "list name and color of every dog who is still alive "
   ]
  },
  {
   "cell_type": "code",
   "execution_count": 8,
   "metadata": {},
   "outputs": [
    {
     "name": "stdout",
     "output_type": "stream",
     "text": [
      "scout is alive and well, he has a white coat\n",
      "jack is alive and well, he has a brown coat\n",
      "zoey is alive and well, she has a white coat\n"
     ]
    }
   ],
   "source": [
    "for dog in dogs:\n",
    "    if dog['alive']:\n",
    "        if dog['gender'] == 'male':\n",
    "            pronoun = 'he'\n",
    "        else:\n",
    "            pronoun = 'she'\n",
    "        print(dog['name'] + ' is alive and well, ' + pronoun + ' has a ' + dog['color'] + ' coat')"
   ]
  }
 ],
 "metadata": {
  "kernelspec": {
   "display_name": "Python 3",
   "language": "python",
   "name": "python3"
  },
  "language_info": {
   "codemirror_mode": {
    "name": "ipython",
    "version": 3
   },
   "file_extension": ".py",
   "mimetype": "text/x-python",
   "name": "python",
   "nbconvert_exporter": "python",
   "pygments_lexer": "ipython3",
   "version": "3.7.3"
  }
 },
 "nbformat": 4,
 "nbformat_minor": 2
}
