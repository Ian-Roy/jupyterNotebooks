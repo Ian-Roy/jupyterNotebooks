{
 "cells": [
  {
   "cell_type": "markdown",
   "metadata": {},
   "source": [
    "## scope of variable in jupyter notebooks.\n",
    "\n",
    "in this notebook we will explore some of the interesting things that can happen with variables in jupyter.\n",
    "try to make a guess at what each code block will do before you run it.\n",
    "\n",
    "**before proceeding you should understand these concepts**\n",
    "* basic loops\n",
    "* functions\n",
    "\n",
    "_what values will be printed?_"
   ]
  },
  {
   "cell_type": "code",
   "execution_count": 3,
   "metadata": {},
   "outputs": [
    {
     "name": "stdout",
     "output_type": "stream",
     "text": [
      "0\n",
      "1\n",
      "2\n"
     ]
    }
   ],
   "source": [
    "x = 'test value 1'\n",
    "for x in range(3):\n",
    "    print(x)"
   ]
  },
  {
   "cell_type": "code",
   "execution_count": 4,
   "metadata": {},
   "outputs": [
    {
     "name": "stdout",
     "output_type": "stream",
     "text": [
      "42\n",
      "2\n"
     ]
    }
   ],
   "source": [
    "def totaly_normal_function(x):\n",
    "    print (x)\n",
    "\n",
    "totaly_normal_function('42')\n",
    "print(x)\n"
   ]
  }
 ],
 "metadata": {
  "kernelspec": {
   "display_name": "Python 3",
   "language": "python",
   "name": "python3"
  },
  "language_info": {
   "codemirror_mode": {
    "name": "ipython",
    "version": 3
   },
   "file_extension": ".py",
   "mimetype": "text/x-python",
   "name": "python",
   "nbconvert_exporter": "python",
   "pygments_lexer": "ipython3",
   "version": "3.7.3"
  }
 },
 "nbformat": 4,
 "nbformat_minor": 2
}
